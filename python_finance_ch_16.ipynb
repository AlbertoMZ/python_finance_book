{
 "cells": [
  {
   "cell_type": "markdown",
   "metadata": {},
   "source": [
    "##  Random Number Generation"
   ]
  },
  {
   "cell_type": "code",
   "execution_count": 1,
   "metadata": {
    "collapsed": true
   },
   "outputs": [],
   "source": [
    "import numpy as np"
   ]
  },
  {
   "cell_type": "code",
   "execution_count": 2,
   "metadata": {
    "collapsed": true
   },
   "outputs": [],
   "source": [
    "def sn_random_numbers(shape, antithetic=True, moment_matching=True,\n",
    "                     fixed_seed=False):\n",
    "    \n",
    "    \"\"\"Returns an array of shape shape with (pseudo)random numbers\n",
    "    that are statndard normally distributed.\n",
    "    \n",
    "    Parameters\n",
    "    =========\n",
    "    shape : tuple (o, n, m)\n",
    "        generation of array with shape (o, n, m)\n",
    "        \n",
    "        \n",
    "    Results\n",
    "    =========\n",
    "    ran : (o,)\n",
    "    \"\"\"\n",
    "    \n",
    "    if fixed_seed:\n",
    "        np.random.seed(1000)\n",
    "    if antithetic:\n",
    "        ran = np.random.standard_normal((shape[0], shape[1], shape[2] / 2))\n",
    "        ran = np.concatenate((ran, -ran), axis = 2)\n",
    "    else:\n",
    "        ran = np.random.standard_normal(shape)\n",
    "    if moment_matching:\n",
    "        ran = ran - np.mean(ran)\n",
    "        ran = ran / np.std(ran)\n",
    "    if shape[0] == 1:\n",
    "        return ran[0]\n",
    "    else:\n",
    "        return ran\n",
    "    "
   ]
  },
  {
   "cell_type": "code",
   "execution_count": 3,
   "metadata": {
    "collapsed": true
   },
   "outputs": [],
   "source": [
    "snrn = sn_random_numbers((2,2,2), antithetic=False,\n",
    "                        moment_matching=False,\n",
    "                        fixed_seed=True)"
   ]
  },
  {
   "cell_type": "code",
   "execution_count": 4,
   "metadata": {
    "collapsed": false
   },
   "outputs": [
    {
     "data": {
      "text/plain": [
       "array([[[-0.8044583 ,  0.32093155],\n",
       "        [-0.02548288,  0.64432383]],\n",
       "\n",
       "       [[-0.30079667,  0.38947455],\n",
       "        [-0.1074373 , -0.47998308]]])"
      ]
     },
     "execution_count": 4,
     "metadata": {},
     "output_type": "execute_result"
    }
   ],
   "source": [
    "snrn"
   ]
  },
  {
   "cell_type": "code",
   "execution_count": 5,
   "metadata": {
    "collapsed": true
   },
   "outputs": [],
   "source": [
    "snrn_mm = sn_random_numbers((2, 3, 2), antithetic=False,\n",
    "                           moment_matching=True,\n",
    "                           fixed_seed=True)"
   ]
  },
  {
   "cell_type": "code",
   "execution_count": 6,
   "metadata": {
    "collapsed": false
   },
   "outputs": [
    {
     "data": {
      "text/plain": [
       "array([[[-1.47414161,  0.67072537],\n",
       "        [ 0.01049828,  1.28707482],\n",
       "        [-0.51421897,  0.80136066]],\n",
       "\n",
       "       [[-0.14569767, -0.85572818],\n",
       "        [ 1.19313679, -0.82653845],\n",
       "        [ 1.3308292 , -1.47730025]]])"
      ]
     },
     "execution_count": 6,
     "metadata": {},
     "output_type": "execute_result"
    }
   ],
   "source": [
    "snrn_mm"
   ]
  },
  {
   "cell_type": "code",
   "execution_count": 7,
   "metadata": {
    "collapsed": false
   },
   "outputs": [
    {
     "data": {
      "text/plain": [
       "3.7007434154171883e-17"
      ]
     },
     "execution_count": 7,
     "metadata": {},
     "output_type": "execute_result"
    }
   ],
   "source": [
    "snrn_mm.mean()"
   ]
  },
  {
   "cell_type": "code",
   "execution_count": 8,
   "metadata": {
    "collapsed": false
   },
   "outputs": [
    {
     "data": {
      "text/plain": [
       "1.0"
      ]
     },
     "execution_count": 8,
     "metadata": {},
     "output_type": "execute_result"
    }
   ],
   "source": [
    "snrn_mm.std()"
   ]
  },
  {
   "cell_type": "markdown",
   "metadata": {},
   "source": [
    "##  Generic Simulation Class"
   ]
  },
  {
   "cell_type": "code",
   "execution_count": 9,
   "metadata": {
    "collapsed": true
   },
   "outputs": [],
   "source": [
    "import numpy as np\n",
    "import pandas as pd"
   ]
  },
  {
   "cell_type": "code",
   "execution_count": 13,
   "metadata": {
    "collapsed": false
   },
   "outputs": [],
   "source": [
    "class simulation_class(object):\n",
    "    \"\"\" Providing base methods for simulation classes.\n",
    "    \n",
    "    Attributes\n",
    "    ==========\n",
    "    name : string\n",
    "    mar_env : instance of market_environment\n",
    "    \n",
    "    corr : Boolean\n",
    "    \n",
    "    \n",
    "    \n",
    "    Methods\n",
    "    =======\n",
    "    generate_time_grid : \n",
    "    \n",
    "    get_instrument_values :\n",
    "    \"\"\"\n",
    "    \n",
    "    \n",
    "    \n",
    "    def __init__(self, name, mar_env, corr):\n",
    "        try:\n",
    "            self.name = name\n",
    "            self.pricing_date = mar_env.pricing_date\n",
    "            self.initial_value = mar_env.get_constant('initial_value')\n",
    "            self.volatility = mar_env.get_constant('volatility')\n",
    "            self.final_date = mar_env.get_constant('final_date')\n",
    "            self.currency = mar_env.get_constant('currency')\n",
    "            self.frequency = mar_env.get_constant('frequency')\n",
    "            self.paths = mar_env.get_constant('paths')\n",
    "            self.discount_curve = mar_env.get_curve('discount_curve')\n",
    "            \n",
    "            try:\n",
    "                # if time_grid in mar_env take this\n",
    "                # (for portfolio valuetion\n",
    "                self.time_grid = mar_env.get_list('time_grid')\n",
    "            except:\n",
    "                self.time_grid = None\n",
    "                \n",
    "            try:\n",
    "                # if there are special dates, then add these\n",
    "                self.special_dates = mar_env.get_list('special_dates')\n",
    "            except:\n",
    "                self.special_dates = []\n",
    "                \n",
    "            self.instrument_values = None\n",
    "            self.correlated = corr\n",
    "            \n",
    "            if corr is True:\n",
    "                # only needed in a portfolio context when\n",
    "                # risk factors are correlated\n",
    "                self.cholesky_matrix = mar_env.get_list('cholesky_matrix')\n",
    "                self.rn_set = mar_env.get_list('rn_set')[self.name]\n",
    "                self.random_numbers = mar_env.get_list('random_numbers')\n",
    "        except:\n",
    "            print(\"Error parsing market environment.\")\n",
    "                \n",
    "        \n",
    "    def generate_time_grid(self):\n",
    "        start = self.pricing_date\n",
    "        end = self.final_date\n",
    "        # pandas date_range function\n",
    "        \n",
    "        time_grid = pd.date_range(start=start, end=end,\n",
    "                                  freq=self.frequency).to_pydatetime()\n",
    "        time_grid = list(time_grid)\n",
    "        # enhance time_grid by start, end, and special_dates\n",
    "        if start not in time_grid:\n",
    "            time_grid.insert(0, start)\n",
    "            \n",
    "        if end not in time_grid:\n",
    "            time_grid.append(end)\n",
    "            \n",
    "        if len(self.special_dates) > 0:\n",
    "            \n",
    "            time_grid.extend(self.special_dates)\n",
    "            \n",
    "            time_grid = list(set(time_grid))\n",
    "            \n",
    "            time_grid.ort()\n",
    "        \n",
    "        self.time_grid = np.array(time_grid)\n",
    "            \n",
    "        def get_instrument_values(self, fixed_seed=True):\n",
    "            if self.instrument_values is None:\n",
    "                \n",
    "                self.generate_paths(fixed_seed=fixed_seed, day_count=365.)\n",
    "                \n",
    "            elif fixed_seed is False:\n",
    "                \n",
    "                self.generate_paths(fixed_seed=fixed_seed, day_count=365.)\n",
    "            \n",
    "            return self.instrument_values\n",
    "        \n",
    "                         \n",
    "        \n",
    "        \n",
    "        \n",
    "        \n",
    "    \n",
    "    "
   ]
  },
  {
   "cell_type": "markdown",
   "metadata": {},
   "source": [
    "## Geometric Brownian Motion"
   ]
  },
  {
   "cell_type": "markdown",
   "metadata": {},
   "source": [
    "### The Simulation Class"
   ]
  },
  {
   "cell_type": "code",
   "execution_count": 14,
   "metadata": {
    "collapsed": true
   },
   "outputs": [],
   "source": [
    "import numpy as np"
   ]
  },
  {
   "cell_type": "code",
   "execution_count": null,
   "metadata": {
    "collapsed": true
   },
   "outputs": [],
   "source": [
    "from sn_random_numbers import sn_random_numbers\n",
    "from simulation_class import simulation_class"
   ]
  }
 ],
 "metadata": {
  "kernelspec": {
   "display_name": "Python 3",
   "language": "python",
   "name": "python3"
  },
  "language_info": {
   "codemirror_mode": {
    "name": "ipython",
    "version": 3
   },
   "file_extension": ".py",
   "mimetype": "text/x-python",
   "name": "python",
   "nbconvert_exporter": "python",
   "pygments_lexer": "ipython3",
   "version": "3.5.2"
  }
 },
 "nbformat": 4,
 "nbformat_minor": 2
}
