{
 "cells": [
  {
   "cell_type": "code",
   "execution_count": 1,
   "metadata": {
    "collapsed": true
   },
   "outputs": [],
   "source": [
    "import pandas as pd\n",
    "import numpy as np"
   ]
  },
  {
   "cell_type": "code",
   "execution_count": 3,
   "metadata": {
    "collapsed": true
   },
   "outputs": [],
   "source": [
    "dates = pd.date_range('2015-1-1', periods = 100, freq=\"M\")"
   ]
  },
  {
   "cell_type": "code",
   "execution_count": 8,
   "metadata": {
    "collapsed": false
   },
   "outputs": [
    {
     "data": {
      "text/plain": [
       "array([[ 0.59259 , -1.961419,  0.95559 , -1.61061 ],\n",
       "       [-0.139605,  2.293389, -0.696213,  0.179311],\n",
       "       [ 0.572599, -0.857244,  0.121958, -0.12002 ],\n",
       "       [-0.328863, -0.873578, -0.67023 , -0.311689],\n",
       "       [-1.403701,  1.605031,  0.174555, -0.099395],\n",
       "       [-0.810781, -0.13525 ,  0.675035,  1.801924],\n",
       "       [ 1.361321, -0.032073,  0.085798, -0.149322],\n",
       "       [ 0.544815,  1.055588, -1.01786 ,  0.107261],\n",
       "       [ 1.969302,  1.666456, -1.646634, -0.32226 ]])"
      ]
     },
     "execution_count": 8,
     "metadata": {},
     "output_type": "execute_result"
    }
   ],
   "source": [
    "\n",
    "df = pd.DataFrame(np.random.standard_normal([9, 4]))\n",
    "np.array(df).round(6)"
   ]
  },
  {
   "cell_type": "code",
   "execution_count": 9,
   "metadata": {
    "collapsed": false
   },
   "outputs": [],
   "source": [
    "df.index = dates[:9]"
   ]
  },
  {
   "cell_type": "code",
   "execution_count": 11,
   "metadata": {
    "collapsed": false
   },
   "outputs": [],
   "source": [
    "df.columns = [[\"Var1\", \"Var2\", \"Var3\", \"Var4\"]]"
   ]
  },
  {
   "cell_type": "code",
   "execution_count": 12,
   "metadata": {
    "collapsed": false
   },
   "outputs": [
    {
     "data": {
      "text/html": [
       "<div>\n",
       "<table border=\"1\" class=\"dataframe\">\n",
       "  <thead>\n",
       "    <tr style=\"text-align: right;\">\n",
       "      <th></th>\n",
       "      <th>Var1</th>\n",
       "      <th>Var2</th>\n",
       "      <th>Var3</th>\n",
       "      <th>Var4</th>\n",
       "    </tr>\n",
       "  </thead>\n",
       "  <tbody>\n",
       "    <tr>\n",
       "      <th>2015-01-31</th>\n",
       "      <td>0.592590</td>\n",
       "      <td>-1.961419</td>\n",
       "      <td>0.955590</td>\n",
       "      <td>-1.610610</td>\n",
       "    </tr>\n",
       "    <tr>\n",
       "      <th>2015-02-28</th>\n",
       "      <td>-0.139605</td>\n",
       "      <td>2.293389</td>\n",
       "      <td>-0.696213</td>\n",
       "      <td>0.179311</td>\n",
       "    </tr>\n",
       "    <tr>\n",
       "      <th>2015-03-31</th>\n",
       "      <td>0.572599</td>\n",
       "      <td>-0.857244</td>\n",
       "      <td>0.121958</td>\n",
       "      <td>-0.120020</td>\n",
       "    </tr>\n",
       "    <tr>\n",
       "      <th>2015-04-30</th>\n",
       "      <td>-0.328863</td>\n",
       "      <td>-0.873578</td>\n",
       "      <td>-0.670230</td>\n",
       "      <td>-0.311689</td>\n",
       "    </tr>\n",
       "    <tr>\n",
       "      <th>2015-05-31</th>\n",
       "      <td>-1.403701</td>\n",
       "      <td>1.605031</td>\n",
       "      <td>0.174555</td>\n",
       "      <td>-0.099395</td>\n",
       "    </tr>\n",
       "    <tr>\n",
       "      <th>2015-06-30</th>\n",
       "      <td>-0.810781</td>\n",
       "      <td>-0.135250</td>\n",
       "      <td>0.675035</td>\n",
       "      <td>1.801924</td>\n",
       "    </tr>\n",
       "    <tr>\n",
       "      <th>2015-07-31</th>\n",
       "      <td>1.361321</td>\n",
       "      <td>-0.032073</td>\n",
       "      <td>0.085798</td>\n",
       "      <td>-0.149322</td>\n",
       "    </tr>\n",
       "    <tr>\n",
       "      <th>2015-08-31</th>\n",
       "      <td>0.544815</td>\n",
       "      <td>1.055588</td>\n",
       "      <td>-1.017860</td>\n",
       "      <td>0.107261</td>\n",
       "    </tr>\n",
       "    <tr>\n",
       "      <th>2015-09-30</th>\n",
       "      <td>1.969302</td>\n",
       "      <td>1.666456</td>\n",
       "      <td>-1.646634</td>\n",
       "      <td>-0.322260</td>\n",
       "    </tr>\n",
       "  </tbody>\n",
       "</table>\n",
       "</div>"
      ],
      "text/plain": [
       "                Var1      Var2      Var3      Var4\n",
       "2015-01-31  0.592590 -1.961419  0.955590 -1.610610\n",
       "2015-02-28 -0.139605  2.293389 -0.696213  0.179311\n",
       "2015-03-31  0.572599 -0.857244  0.121958 -0.120020\n",
       "2015-04-30 -0.328863 -0.873578 -0.670230 -0.311689\n",
       "2015-05-31 -1.403701  1.605031  0.174555 -0.099395\n",
       "2015-06-30 -0.810781 -0.135250  0.675035  1.801924\n",
       "2015-07-31  1.361321 -0.032073  0.085798 -0.149322\n",
       "2015-08-31  0.544815  1.055588 -1.017860  0.107261\n",
       "2015-09-30  1.969302  1.666456 -1.646634 -0.322260"
      ]
     },
     "execution_count": 12,
     "metadata": {},
     "output_type": "execute_result"
    }
   ],
   "source": [
    "df"
   ]
  },
  {
   "cell_type": "code",
   "execution_count": 15,
   "metadata": {
    "collapsed": false
   },
   "outputs": [
    {
     "data": {
      "text/html": [
       "<div>\n",
       "<table border=\"1\" class=\"dataframe\">\n",
       "  <thead>\n",
       "    <tr style=\"text-align: right;\">\n",
       "      <th></th>\n",
       "      <th>Var1</th>\n",
       "      <th>Var2</th>\n",
       "      <th>Var3</th>\n",
       "      <th>Var4</th>\n",
       "    </tr>\n",
       "  </thead>\n",
       "  <tbody>\n",
       "    <tr>\n",
       "      <th>count</th>\n",
       "      <td>9.000000</td>\n",
       "      <td>9.000000</td>\n",
       "      <td>9.000000</td>\n",
       "      <td>9.000000</td>\n",
       "    </tr>\n",
       "    <tr>\n",
       "      <th>mean</th>\n",
       "      <td>0.261964</td>\n",
       "      <td>0.306767</td>\n",
       "      <td>-0.224222</td>\n",
       "      <td>-0.058311</td>\n",
       "    </tr>\n",
       "    <tr>\n",
       "      <th>std</th>\n",
       "      <td>1.051484</td>\n",
       "      <td>1.424984</td>\n",
       "      <td>0.840417</td>\n",
       "      <td>0.873329</td>\n",
       "    </tr>\n",
       "    <tr>\n",
       "      <th>min</th>\n",
       "      <td>-1.403701</td>\n",
       "      <td>-1.961419</td>\n",
       "      <td>-1.646634</td>\n",
       "      <td>-1.610610</td>\n",
       "    </tr>\n",
       "    <tr>\n",
       "      <th>25%</th>\n",
       "      <td>-0.328863</td>\n",
       "      <td>-0.857244</td>\n",
       "      <td>-0.696213</td>\n",
       "      <td>-0.311689</td>\n",
       "    </tr>\n",
       "    <tr>\n",
       "      <th>50%</th>\n",
       "      <td>0.544815</td>\n",
       "      <td>-0.032073</td>\n",
       "      <td>0.085798</td>\n",
       "      <td>-0.120020</td>\n",
       "    </tr>\n",
       "    <tr>\n",
       "      <th>75%</th>\n",
       "      <td>0.592590</td>\n",
       "      <td>1.605031</td>\n",
       "      <td>0.174555</td>\n",
       "      <td>0.107261</td>\n",
       "    </tr>\n",
       "    <tr>\n",
       "      <th>max</th>\n",
       "      <td>1.969302</td>\n",
       "      <td>2.293389</td>\n",
       "      <td>0.955590</td>\n",
       "      <td>1.801924</td>\n",
       "    </tr>\n",
       "  </tbody>\n",
       "</table>\n",
       "</div>"
      ],
      "text/plain": [
       "           Var1      Var2      Var3      Var4\n",
       "count  9.000000  9.000000  9.000000  9.000000\n",
       "mean   0.261964  0.306767 -0.224222 -0.058311\n",
       "std    1.051484  1.424984  0.840417  0.873329\n",
       "min   -1.403701 -1.961419 -1.646634 -1.610610\n",
       "25%   -0.328863 -0.857244 -0.696213 -0.311689\n",
       "50%    0.544815 -0.032073  0.085798 -0.120020\n",
       "75%    0.592590  1.605031  0.174555  0.107261\n",
       "max    1.969302  2.293389  0.955590  1.801924"
      ]
     },
     "execution_count": 15,
     "metadata": {},
     "output_type": "execute_result"
    }
   ],
   "source": [
    "df.describe()"
   ]
  },
  {
   "cell_type": "code",
   "execution_count": 16,
   "metadata": {
    "collapsed": false
   },
   "outputs": [
    {
     "data": {
      "text/html": [
       "<div>\n",
       "<table border=\"1\" class=\"dataframe\">\n",
       "  <thead>\n",
       "    <tr style=\"text-align: right;\">\n",
       "      <th></th>\n",
       "      <th>Var1</th>\n",
       "      <th>Var2</th>\n",
       "      <th>Var3</th>\n",
       "      <th>Var4</th>\n",
       "    </tr>\n",
       "  </thead>\n",
       "  <tbody>\n",
       "    <tr>\n",
       "      <th>2015-01-31</th>\n",
       "      <td>0.592590</td>\n",
       "      <td>-1.961419</td>\n",
       "      <td>0.955590</td>\n",
       "      <td>-1.610610</td>\n",
       "    </tr>\n",
       "    <tr>\n",
       "      <th>2015-02-28</th>\n",
       "      <td>0.452985</td>\n",
       "      <td>0.331970</td>\n",
       "      <td>0.259378</td>\n",
       "      <td>-1.431299</td>\n",
       "    </tr>\n",
       "    <tr>\n",
       "      <th>2015-03-31</th>\n",
       "      <td>1.025584</td>\n",
       "      <td>-0.525274</td>\n",
       "      <td>0.381336</td>\n",
       "      <td>-1.551319</td>\n",
       "    </tr>\n",
       "    <tr>\n",
       "      <th>2015-04-30</th>\n",
       "      <td>0.696721</td>\n",
       "      <td>-1.398852</td>\n",
       "      <td>-0.288894</td>\n",
       "      <td>-1.863008</td>\n",
       "    </tr>\n",
       "    <tr>\n",
       "      <th>2015-05-31</th>\n",
       "      <td>-0.706980</td>\n",
       "      <td>0.206179</td>\n",
       "      <td>-0.114339</td>\n",
       "      <td>-1.962403</td>\n",
       "    </tr>\n",
       "    <tr>\n",
       "      <th>2015-06-30</th>\n",
       "      <td>-1.517761</td>\n",
       "      <td>0.070929</td>\n",
       "      <td>0.560696</td>\n",
       "      <td>-0.160479</td>\n",
       "    </tr>\n",
       "    <tr>\n",
       "      <th>2015-07-31</th>\n",
       "      <td>-0.156440</td>\n",
       "      <td>0.038855</td>\n",
       "      <td>0.646494</td>\n",
       "      <td>-0.309801</td>\n",
       "    </tr>\n",
       "    <tr>\n",
       "      <th>2015-08-31</th>\n",
       "      <td>0.388375</td>\n",
       "      <td>1.094444</td>\n",
       "      <td>-0.371366</td>\n",
       "      <td>-0.202540</td>\n",
       "    </tr>\n",
       "    <tr>\n",
       "      <th>2015-09-30</th>\n",
       "      <td>2.357677</td>\n",
       "      <td>2.760900</td>\n",
       "      <td>-2.018000</td>\n",
       "      <td>-0.524800</td>\n",
       "    </tr>\n",
       "  </tbody>\n",
       "</table>\n",
       "</div>"
      ],
      "text/plain": [
       "                Var1      Var2      Var3      Var4\n",
       "2015-01-31  0.592590 -1.961419  0.955590 -1.610610\n",
       "2015-02-28  0.452985  0.331970  0.259378 -1.431299\n",
       "2015-03-31  1.025584 -0.525274  0.381336 -1.551319\n",
       "2015-04-30  0.696721 -1.398852 -0.288894 -1.863008\n",
       "2015-05-31 -0.706980  0.206179 -0.114339 -1.962403\n",
       "2015-06-30 -1.517761  0.070929  0.560696 -0.160479\n",
       "2015-07-31 -0.156440  0.038855  0.646494 -0.309801\n",
       "2015-08-31  0.388375  1.094444 -0.371366 -0.202540\n",
       "2015-09-30  2.357677  2.760900 -2.018000 -0.524800"
      ]
     },
     "execution_count": 16,
     "metadata": {},
     "output_type": "execute_result"
    }
   ],
   "source": [
    "df.cumsum()"
   ]
  },
  {
   "cell_type": "code",
   "execution_count": 17,
   "metadata": {
    "collapsed": true
   },
   "outputs": [],
   "source": [
    "%matplotlib inline"
   ]
  },
  {
   "cell_type": "code",
   "execution_count": 18,
   "metadata": {
    "collapsed": false
   },
   "outputs": [
    {
     "data": {
      "text/plain": [
       "<matplotlib.axes._subplots.AxesSubplot at 0x7f05404beeb8>"
      ]
     },
     "execution_count": 18,
     "metadata": {},
     "output_type": "execute_result"
    },
    {
     "data": {
      "image/png": "[encoded data removed]",
      "text/plain": [
       "<matplotlib.figure.Figure at 0x7f05404be588>"
      ]
     },
     "metadata": {},
     "output_type": "display_data"
    }
   ],
   "source": [
    "df.cumsum().plot(lw=2.0)"
   ]
  },
  {
   "cell_type": "markdown",
   "metadata": {},
   "source": [
    "## Series Class\n"
   ]
  },
  {
   "cell_type": "code",
   "execution_count": 19,
   "metadata": {
    "collapsed": false
   },
   "outputs": [
    {
     "data": {
      "text/plain": [
       "pandas.core.frame.DataFrame"
      ]
     },
     "execution_count": 19,
     "metadata": {},
     "output_type": "execute_result"
    }
   ],
   "source": [
    "type(df)"
   ]
  },
  {
   "cell_type": "code",
   "execution_count": 20,
   "metadata": {
    "collapsed": false
   },
   "outputs": [
    {
     "data": {
      "text/plain": [
       "pandas.core.series.Series"
      ]
     },
     "execution_count": 20,
     "metadata": {},
     "output_type": "execute_result"
    }
   ],
   "source": [
    "type(df[\"Var1\"])"
   ]
  },
  {
   "cell_type": "code",
   "execution_count": 22,
   "metadata": {
    "collapsed": true
   },
   "outputs": [],
   "source": [
    "import matplotlib.pyplot as plt"
   ]
  },
  {
   "cell_type": "code",
   "execution_count": 23,
   "metadata": {
    "collapsed": false
   },
   "outputs": [
    {
     "data": {
      "text/plain": [
       "<matplotlib.text.Text at 0x7f053e079390>"
      ]
     },
     "execution_count": 23,
     "metadata": {},
     "output_type": "execute_result"
    },
    {
     "data": {
      "image/png": "[encoded data removed]",
      "text/plain": [
       "<matplotlib.figure.Figure at 0x7f053e0f9c18>"
      ]
     },
     "metadata": {},
     "output_type": "display_data"
    }
   ],
   "source": [
    "df[\"Var1\"].cumsum().plot(style=\"r\", lw=2)\n",
    "plt.xlabel('date')\n",
    "plt.ylabel('value')"
   ]
  },
  {
   "cell_type": "markdown",
   "metadata": {},
   "source": [
    "## GroupBy Operations"
   ]
  },
  {
   "cell_type": "code",
   "execution_count": 27,
   "metadata": {
    "collapsed": true
   },
   "outputs": [],
   "source": [
    "df['Quarter'] = ['Q1','Q1','Q1','Q2', 'Q2', 'Q2', 'Q3','Q3','Q3']"
   ]
  },
  {
   "cell_type": "code",
   "execution_count": 28,
   "metadata": {
    "collapsed": true
   },
   "outputs": [],
   "source": [
    "groups = df.groupby('Quarter')"
   ]
  },
  {
   "cell_type": "code",
   "execution_count": 29,
   "metadata": {
    "collapsed": false
   },
   "outputs": [
    {
     "data": {
      "text/html": [
       "<div>\n",
       "<table border=\"1\" class=\"dataframe\">\n",
       "  <thead>\n",
       "    <tr style=\"text-align: right;\">\n",
       "      <th></th>\n",
       "      <th>Var1</th>\n",
       "      <th>Var2</th>\n",
       "      <th>Var3</th>\n",
       "      <th>Var4</th>\n",
       "    </tr>\n",
       "    <tr>\n",
       "      <th>Quarter</th>\n",
       "      <th></th>\n",
       "      <th></th>\n",
       "      <th></th>\n",
       "      <th></th>\n",
       "    </tr>\n",
       "  </thead>\n",
       "  <tbody>\n",
       "    <tr>\n",
       "      <th>Q1</th>\n",
       "      <td>0.341861</td>\n",
       "      <td>-0.175091</td>\n",
       "      <td>0.127112</td>\n",
       "      <td>-0.517106</td>\n",
       "    </tr>\n",
       "    <tr>\n",
       "      <th>Q2</th>\n",
       "      <td>-0.847782</td>\n",
       "      <td>0.198734</td>\n",
       "      <td>0.059787</td>\n",
       "      <td>0.463613</td>\n",
       "    </tr>\n",
       "    <tr>\n",
       "      <th>Q3</th>\n",
       "      <td>1.291813</td>\n",
       "      <td>0.896657</td>\n",
       "      <td>-0.859565</td>\n",
       "      <td>-0.121440</td>\n",
       "    </tr>\n",
       "  </tbody>\n",
       "</table>\n",
       "</div>"
      ],
      "text/plain": [
       "             Var1      Var2      Var3      Var4\n",
       "Quarter                                        \n",
       "Q1       0.341861 -0.175091  0.127112 -0.517106\n",
       "Q2      -0.847782  0.198734  0.059787  0.463613\n",
       "Q3       1.291813  0.896657 -0.859565 -0.121440"
      ]
     },
     "execution_count": 29,
     "metadata": {},
     "output_type": "execute_result"
    }
   ],
   "source": [
    "groups.mean()"
   ]
  },
  {
   "cell_type": "code",
   "execution_count": 30,
   "metadata": {
    "collapsed": false
   },
   "outputs": [
    {
     "data": {
      "text/html": [
       "<div>\n",
       "<table border=\"1\" class=\"dataframe\">\n",
       "  <thead>\n",
       "    <tr style=\"text-align: right;\">\n",
       "      <th></th>\n",
       "      <th>Var1</th>\n",
       "      <th>Var2</th>\n",
       "      <th>Var3</th>\n",
       "      <th>Var4</th>\n",
       "    </tr>\n",
       "    <tr>\n",
       "      <th>Quarter</th>\n",
       "      <th></th>\n",
       "      <th></th>\n",
       "      <th></th>\n",
       "      <th></th>\n",
       "    </tr>\n",
       "  </thead>\n",
       "  <tbody>\n",
       "    <tr>\n",
       "      <th>Q1</th>\n",
       "      <td>0.592590</td>\n",
       "      <td>2.293389</td>\n",
       "      <td>0.955590</td>\n",
       "      <td>0.179311</td>\n",
       "    </tr>\n",
       "    <tr>\n",
       "      <th>Q2</th>\n",
       "      <td>-0.328863</td>\n",
       "      <td>1.605031</td>\n",
       "      <td>0.675035</td>\n",
       "      <td>1.801924</td>\n",
       "    </tr>\n",
       "    <tr>\n",
       "      <th>Q3</th>\n",
       "      <td>1.969302</td>\n",
       "      <td>1.666456</td>\n",
       "      <td>0.085798</td>\n",
       "      <td>0.107261</td>\n",
       "    </tr>\n",
       "  </tbody>\n",
       "</table>\n",
       "</div>"
      ],
      "text/plain": [
       "             Var1      Var2      Var3      Var4\n",
       "Quarter                                        \n",
       "Q1       0.592590  2.293389  0.955590  0.179311\n",
       "Q2      -0.328863  1.605031  0.675035  1.801924\n",
       "Q3       1.969302  1.666456  0.085798  0.107261"
      ]
     },
     "execution_count": 30,
     "metadata": {},
     "output_type": "execute_result"
    }
   ],
   "source": [
    "groups.max()"
   ]
  },
  {
   "cell_type": "code",
   "execution_count": 31,
   "metadata": {
    "collapsed": false
   },
   "outputs": [
    {
     "data": {
      "text/html": [
       "<div>\n",
       "<table border=\"1\" class=\"dataframe\">\n",
       "  <thead>\n",
       "    <tr style=\"text-align: right;\">\n",
       "      <th></th>\n",
       "      <th>Var1</th>\n",
       "      <th>Var2</th>\n",
       "      <th>Var3</th>\n",
       "      <th>Var4</th>\n",
       "    </tr>\n",
       "    <tr>\n",
       "      <th>Quarter</th>\n",
       "      <th></th>\n",
       "      <th></th>\n",
       "      <th></th>\n",
       "      <th></th>\n",
       "    </tr>\n",
       "  </thead>\n",
       "  <tbody>\n",
       "    <tr>\n",
       "      <th>Q1</th>\n",
       "      <td>0.341861</td>\n",
       "      <td>-0.175091</td>\n",
       "      <td>0.127112</td>\n",
       "      <td>-0.517106</td>\n",
       "    </tr>\n",
       "    <tr>\n",
       "      <th>Q2</th>\n",
       "      <td>-0.847782</td>\n",
       "      <td>0.198734</td>\n",
       "      <td>0.059787</td>\n",
       "      <td>0.463613</td>\n",
       "    </tr>\n",
       "    <tr>\n",
       "      <th>Q3</th>\n",
       "      <td>1.291813</td>\n",
       "      <td>0.896657</td>\n",
       "      <td>-0.859565</td>\n",
       "      <td>-0.121440</td>\n",
       "    </tr>\n",
       "  </tbody>\n",
       "</table>\n",
       "</div>"
      ],
      "text/plain": [
       "             Var1      Var2      Var3      Var4\n",
       "Quarter                                        \n",
       "Q1       0.341861 -0.175091  0.127112 -0.517106\n",
       "Q2      -0.847782  0.198734  0.059787  0.463613\n",
       "Q3       1.291813  0.896657 -0.859565 -0.121440"
      ]
     },
     "execution_count": 31,
     "metadata": {},
     "output_type": "execute_result"
    }
   ],
   "source": [
    "df.groupby('Quarter').mean()"
   ]
  },
  {
   "cell_type": "code",
   "execution_count": 32,
   "metadata": {
    "collapsed": false
   },
   "outputs": [
    {
     "data": {
      "text/plain": [
       "Quarter\n",
       "Q1    3\n",
       "Q2    3\n",
       "Q3    3\n",
       "dtype: int64"
      ]
     },
     "execution_count": 32,
     "metadata": {},
     "output_type": "execute_result"
    }
   ],
   "source": [
    "groups.size()"
   ]
  },
  {
   "cell_type": "code",
   "execution_count": 33,
   "metadata": {
    "collapsed": true
   },
   "outputs": [],
   "source": [
    "df['Odd_Even'] = ['Odd', 'Even','Odd', 'Even','Odd', 'Even','Odd', 'Even', 'Odd']"
   ]
  },
  {
   "cell_type": "code",
   "execution_count": 35,
   "metadata": {
    "collapsed": false
   },
   "outputs": [],
   "source": [
    "groups = df.groupby(['Quarter', 'Odd_Even'])"
   ]
  },
  {
   "cell_type": "code",
   "execution_count": 36,
   "metadata": {
    "collapsed": false
   },
   "outputs": [
    {
     "data": {
      "text/plain": [
       "Quarter  Odd_Even\n",
       "Q1       Even        1\n",
       "         Odd         2\n",
       "Q2       Even        2\n",
       "         Odd         1\n",
       "Q3       Even        1\n",
       "         Odd         2\n",
       "dtype: int64"
      ]
     },
     "execution_count": 36,
     "metadata": {},
     "output_type": "execute_result"
    }
   ],
   "source": [
    "groups.size()"
   ]
  },
  {
   "cell_type": "code",
   "execution_count": 37,
   "metadata": {
    "collapsed": false
   },
   "outputs": [
    {
     "data": {
      "text/html": [
       "<div>\n",
       "<table border=\"1\" class=\"dataframe\">\n",
       "  <thead>\n",
       "    <tr style=\"text-align: right;\">\n",
       "      <th></th>\n",
       "      <th></th>\n",
       "      <th>Var1</th>\n",
       "      <th>Var2</th>\n",
       "      <th>Var3</th>\n",
       "      <th>Var4</th>\n",
       "    </tr>\n",
       "    <tr>\n",
       "      <th>Quarter</th>\n",
       "      <th>Odd_Even</th>\n",
       "      <th></th>\n",
       "      <th></th>\n",
       "      <th></th>\n",
       "      <th></th>\n",
       "    </tr>\n",
       "  </thead>\n",
       "  <tbody>\n",
       "    <tr>\n",
       "      <th rowspan=\"2\" valign=\"top\">Q1</th>\n",
       "      <th>Even</th>\n",
       "      <td>-0.139605</td>\n",
       "      <td>2.293389</td>\n",
       "      <td>-0.696213</td>\n",
       "      <td>0.179311</td>\n",
       "    </tr>\n",
       "    <tr>\n",
       "      <th>Odd</th>\n",
       "      <td>0.582595</td>\n",
       "      <td>-1.409331</td>\n",
       "      <td>0.538774</td>\n",
       "      <td>-0.865315</td>\n",
       "    </tr>\n",
       "    <tr>\n",
       "      <th rowspan=\"2\" valign=\"top\">Q2</th>\n",
       "      <th>Even</th>\n",
       "      <td>-0.569822</td>\n",
       "      <td>-0.504414</td>\n",
       "      <td>0.002403</td>\n",
       "      <td>0.745117</td>\n",
       "    </tr>\n",
       "    <tr>\n",
       "      <th>Odd</th>\n",
       "      <td>-1.403701</td>\n",
       "      <td>1.605031</td>\n",
       "      <td>0.174555</td>\n",
       "      <td>-0.099395</td>\n",
       "    </tr>\n",
       "    <tr>\n",
       "      <th rowspan=\"2\" valign=\"top\">Q3</th>\n",
       "      <th>Even</th>\n",
       "      <td>0.544815</td>\n",
       "      <td>1.055588</td>\n",
       "      <td>-1.017860</td>\n",
       "      <td>0.107261</td>\n",
       "    </tr>\n",
       "    <tr>\n",
       "      <th>Odd</th>\n",
       "      <td>1.665311</td>\n",
       "      <td>0.817191</td>\n",
       "      <td>-0.780418</td>\n",
       "      <td>-0.235791</td>\n",
       "    </tr>\n",
       "  </tbody>\n",
       "</table>\n",
       "</div>"
      ],
      "text/plain": [
       "                      Var1      Var2      Var3      Var4\n",
       "Quarter Odd_Even                                        \n",
       "Q1      Even     -0.139605  2.293389 -0.696213  0.179311\n",
       "        Odd       0.582595 -1.409331  0.538774 -0.865315\n",
       "Q2      Even     -0.569822 -0.504414  0.002403  0.745117\n",
       "        Odd      -1.403701  1.605031  0.174555 -0.099395\n",
       "Q3      Even      0.544815  1.055588 -1.017860  0.107261\n",
       "        Odd       1.665311  0.817191 -0.780418 -0.235791"
      ]
     },
     "execution_count": 37,
     "metadata": {},
     "output_type": "execute_result"
    }
   ],
   "source": [
    "groups.mean()"
   ]
  },
  {
   "cell_type": "markdown",
   "metadata": {},
   "source": [
    "## Financial Data "
   ]
  },
  {
   "cell_type": "code",
   "execution_count": 42,
   "metadata": {
    "collapsed": false
   },
   "outputs": [],
   "source": [
    "import pandas_datareader.data as web"
   ]
  },
  {
   "cell_type": "code",
   "execution_count": 43,
   "metadata": {
    "collapsed": true
   },
   "outputs": [],
   "source": [
    "amzn = web.get_quote_yahoo('AMZN')"
   ]
  },
  {
   "cell_type": "code",
   "execution_count": 44,
   "metadata": {
    "collapsed": false
   },
   "outputs": [
    {
     "data": {
      "text/html": [
       "<div>\n",
       "<table border=\"1\" class=\"dataframe\">\n",
       "  <thead>\n",
       "    <tr style=\"text-align: right;\">\n",
       "      <th></th>\n",
       "      <th>PE</th>\n",
       "      <th>change_pct</th>\n",
       "      <th>last</th>\n",
       "      <th>short_ratio</th>\n",
       "      <th>time</th>\n",
       "    </tr>\n",
       "  </thead>\n",
       "  <tbody>\n",
       "    <tr>\n",
       "      <th>AMZN</th>\n",
       "      <td>182.46</td>\n",
       "      <td>-0.06%</td>\n",
       "      <td>796.44</td>\n",
       "      <td>1.59</td>\n",
       "      <td>1:13pm</td>\n",
       "    </tr>\n",
       "  </tbody>\n",
       "</table>\n",
       "</div>"
      ],
      "text/plain": [
       "          PE change_pct    last  short_ratio    time\n",
       "AMZN  182.46     -0.06%  796.44         1.59  1:13pm"
      ]
     },
     "execution_count": 44,
     "metadata": {},
     "output_type": "execute_result"
    }
   ],
   "source": [
    "amzn"
   ]
  },
  {
   "cell_type": "code",
   "execution_count": 48,
   "metadata": {
    "collapsed": true
   },
   "outputs": [],
   "source": [
    "DAX = web.DataReader(name='^GDAXI', data_source='yahoo',\n",
    "                    start='2000-1-1')"
   ]
  },
  {
   "cell_type": "code",
   "execution_count": 49,
   "metadata": {
    "collapsed": false
   },
   "outputs": [
    {
     "name": "stdout",
     "output_type": "stream",
     "text": [
      "<class 'pandas.core.frame.DataFrame'>\n",
      "DatetimeIndex: 4337 entries, 2000-01-03 to 2017-01-09\n",
      "Data columns (total 6 columns):\n",
      "Open         4337 non-null float64\n",
      "High         4337 non-null float64\n",
      "Low          4337 non-null float64\n",
      "Close        4337 non-null float64\n",
      "Volume       4337 non-null int64\n",
      "Adj Close    4337 non-null float64\n",
      "dtypes: float64(5), int64(1)\n",
      "memory usage: 237.2 KB\n"
     ]
    }
   ],
   "source": [
    "DAX.info()"
   ]
  },
  {
   "cell_type": "code",
   "execution_count": 51,
   "metadata": {
    "collapsed": false
   },
   "outputs": [
    {
     "data": {
      "text/plain": [
       "Index(['Open', 'High', 'Low', 'Close', 'Volume', 'Adj Close'], dtype='object')"
      ]
     },
     "execution_count": 51,
     "metadata": {},
     "output_type": "execute_result"
    }
   ],
   "source": [
    "DAX.columns"
   ]
  },
  {
   "cell_type": "code",
   "execution_count": 52,
   "metadata": {
    "collapsed": false
   },
   "outputs": [
    {
     "data": {
      "text/html": [
       "<div>\n",
       "<table border=\"1\" class=\"dataframe\">\n",
       "  <thead>\n",
       "    <tr style=\"text-align: right;\">\n",
       "      <th></th>\n",
       "      <th>Open</th>\n",
       "      <th>High</th>\n",
       "      <th>Low</th>\n",
       "      <th>Close</th>\n",
       "      <th>Volume</th>\n",
       "      <th>Adj Close</th>\n",
       "    </tr>\n",
       "    <tr>\n",
       "      <th>Date</th>\n",
       "      <th></th>\n",
       "      <th></th>\n",
       "      <th></th>\n",
       "      <th></th>\n",
       "      <th></th>\n",
       "      <th></th>\n",
       "    </tr>\n",
       "  </thead>\n",
       "  <tbody>\n",
       "    <tr>\n",
       "      <th>2017-01-03</th>\n",
       "      <td>11631.700195</td>\n",
       "      <td>11637.370117</td>\n",
       "      <td>11561.230469</td>\n",
       "      <td>11584.240234</td>\n",
       "      <td>88413500</td>\n",
       "      <td>11584.240234</td>\n",
       "    </tr>\n",
       "    <tr>\n",
       "      <th>2017-01-04</th>\n",
       "      <td>11609.530273</td>\n",
       "      <td>11616.089844</td>\n",
       "      <td>11531.429688</td>\n",
       "      <td>11584.309570</td>\n",
       "      <td>82173600</td>\n",
       "      <td>11584.309570</td>\n",
       "    </tr>\n",
       "    <tr>\n",
       "      <th>2017-01-05</th>\n",
       "      <td>11537.730469</td>\n",
       "      <td>11602.540039</td>\n",
       "      <td>11537.400391</td>\n",
       "      <td>11584.940430</td>\n",
       "      <td>74924900</td>\n",
       "      <td>11584.940430</td>\n",
       "    </tr>\n",
       "    <tr>\n",
       "      <th>2017-01-06</th>\n",
       "      <td>11560.519531</td>\n",
       "      <td>11605.740234</td>\n",
       "      <td>11547.049805</td>\n",
       "      <td>11599.009766</td>\n",
       "      <td>67084900</td>\n",
       "      <td>11599.009766</td>\n",
       "    </tr>\n",
       "    <tr>\n",
       "      <th>2017-01-09</th>\n",
       "      <td>11606.889648</td>\n",
       "      <td>11606.889648</td>\n",
       "      <td>11522.349609</td>\n",
       "      <td>11563.990234</td>\n",
       "      <td>78728200</td>\n",
       "      <td>11563.990234</td>\n",
       "    </tr>\n",
       "  </tbody>\n",
       "</table>\n",
       "</div>"
      ],
      "text/plain": [
       "                    Open          High           Low         Close    Volume  \\\n",
       "Date                                                                           \n",
       "2017-01-03  11631.700195  11637.370117  11561.230469  11584.240234  88413500   \n",
       "2017-01-04  11609.530273  11616.089844  11531.429688  11584.309570  82173600   \n",
       "2017-01-05  11537.730469  11602.540039  11537.400391  11584.940430  74924900   \n",
       "2017-01-06  11560.519531  11605.740234  11547.049805  11599.009766  67084900   \n",
       "2017-01-09  11606.889648  11606.889648  11522.349609  11563.990234  78728200   \n",
       "\n",
       "               Adj Close  \n",
       "Date                      \n",
       "2017-01-03  11584.240234  \n",
       "2017-01-04  11584.309570  \n",
       "2017-01-05  11584.940430  \n",
       "2017-01-06  11599.009766  \n",
       "2017-01-09  11563.990234  "
      ]
     },
     "execution_count": 52,
     "metadata": {},
     "output_type": "execute_result"
    }
   ],
   "source": [
    "DAX.tail()"
   ]
  },
  {
   "cell_type": "code",
   "execution_count": 53,
   "metadata": {
    "collapsed": false
   },
   "outputs": [
    {
     "data": {
      "text/plain": [
       "<matplotlib.axes._subplots.AxesSubplot at 0x7f0584f570b8>"
      ]
     },
     "execution_count": 53,
     "metadata": {},
     "output_type": "execute_result"
    },
    {
     "data": {
      "image/png": "[encoded data removed]",
      "text/plain": [
       "<matplotlib.figure.Figure at 0x7f0584ee33c8>"
      ]
     },
     "metadata": {},
     "output_type": "display_data"
    }
   ],
   "source": [
    "DAX['Close'].plot(figsize=(8,5))"
   ]
  },
  {
   "cell_type": "code",
   "execution_count": 56,
   "metadata": {
    "collapsed": false
   },
   "outputs": [
    {
     "name": "stderr",
     "output_type": "stream",
     "text": [
      "/usr/local/lib/python3.5/dist-packages/ipykernel/__main__.py:3: SettingWithCopyWarning: \n",
      "A value is trying to be set on a copy of a slice from a DataFrame\n",
      "\n",
      "See the caveats in the documentation: http://pandas.pydata.org/pandas-docs/stable/indexing.html#indexing-view-versus-copy\n",
      "  app.launch_new_instance()\n"
     ]
    },
    {
     "name": "stdout",
     "output_type": "stream",
     "text": [
      "CPU times: user 2min 19s, sys: 16 ms, total: 2min 19s\n",
      "Wall time: 2min 19s\n"
     ]
    }
   ],
   "source": [
    "%%time\n",
    "DAX['Ret_Loop'] = 0.0\n",
    "for i in range(1, len(DAX)):\n",
    "    DAX['Ret_Loop'][i] = np.log(DAX['Close'][i] / DAX['Close'][i-1])"
   ]
  },
  {
   "cell_type": "code",
   "execution_count": 57,
   "metadata": {
    "collapsed": false
   },
   "outputs": [
    {
     "data": {
      "text/plain": [
       "Date\n",
       "2000-01-03    0.000000\n",
       "2000-01-04   -0.024565\n",
       "2000-01-05   -0.012970\n",
       "2000-01-06   -0.004184\n",
       "2000-01-07    0.046182\n",
       "2000-01-10    0.021094\n",
       "2000-01-11   -0.004961\n",
       "2000-01-12    0.003124\n",
       "2000-01-13    0.006225\n",
       "2000-01-14    0.030753\n",
       "2000-01-17    0.011874\n",
       "2000-01-18   -0.026068\n",
       "2000-01-19    0.002672\n",
       "2000-01-20    0.003044\n",
       "2000-01-21   -0.017002\n",
       "2000-01-24   -0.008727\n",
       "2000-01-25   -0.017808\n",
       "2000-01-26    0.023186\n",
       "2000-01-27    0.022243\n",
       "2000-01-28   -0.008389\n",
       "2000-01-31   -0.033235\n",
       "2000-02-01    0.030949\n",
       "2000-02-02    0.017085\n",
       "2000-02-03    0.025102\n",
       "2000-02-04    0.012211\n",
       "2000-02-07   -0.020120\n",
       "2000-02-08    0.034162\n",
       "2000-02-09    0.010440\n",
       "2000-02-10    0.010452\n",
       "2000-02-11   -0.012757\n",
       "                ...   \n",
       "2016-11-28   -0.010958\n",
       "2016-11-29    0.003567\n",
       "2016-11-30    0.001863\n",
       "2016-12-01   -0.010036\n",
       "2016-12-02   -0.001967\n",
       "2016-12-05    0.016179\n",
       "2016-12-06    0.008433\n",
       "2016-12-07    0.019426\n",
       "2016-12-08    0.017390\n",
       "2016-12-09    0.002163\n",
       "2016-12-12   -0.001199\n",
       "2016-12-13    0.008404\n",
       "2016-12-14   -0.003534\n",
       "2016-12-15    0.010752\n",
       "2016-12-16    0.003303\n",
       "2016-12-19    0.001988\n",
       "2016-12-20    0.003324\n",
       "2016-12-21    0.000340\n",
       "2016-12-22   -0.001094\n",
       "2016-12-23   -0.000539\n",
       "2016-12-27    0.001947\n",
       "2016-12-28    0.000240\n",
       "2016-12-29   -0.002088\n",
       "2016-12-30    0.002617\n",
       "2017-01-02    0.010162\n",
       "2017-01-03   -0.001216\n",
       "2017-01-04    0.000006\n",
       "2017-01-05    0.000054\n",
       "2017-01-06    0.001214\n",
       "2017-01-09   -0.003024\n",
       "Name: Ret_Loop, dtype: float64"
      ]
     },
     "execution_count": 57,
     "metadata": {},
     "output_type": "execute_result"
    }
   ],
   "source": [
    "DAX['Ret_Loop']"
   ]
  },
  {
   "cell_type": "code",
   "execution_count": null,
   "metadata": {
    "collapsed": true
   },
   "outputs": [],
   "source": [
    "DAX[['Close', 'Ret_Lopp']].tail()"
   ]
  },
  {
   "cell_type": "code",
   "execution_count": null,
   "metadata": {
    "collapsed": true
   },
   "outputs": [],
   "source": []
  }
 ],
 "metadata": {
  "kernelspec": {
   "display_name": "Python 3",
   "language": "python",
   "name": "python3"
  },
  "language_info": {
   "codemirror_mode": {
    "name": "ipython",
    "version": 3
   },
   "file_extension": ".py",
   "mimetype": "text/x-python",
   "name": "python",
   "nbconvert_exporter": "python",
   "pygments_lexer": "ipython3",
   "version": "3.5.2"
  }
 },
 "nbformat": 4,
 "nbformat_minor": 2
}
